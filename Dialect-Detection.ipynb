{
  "cells": [
    {
      "cell_type": "code",
      "execution_count": 1,
      "metadata": {
        "id": "X-WEESEBnoay"
      },
      "outputs": [],
      "source": [
        "# # Instalasi library Optuna\n",
        "# !pip install optuna"
      ]
    },
    {
      "cell_type": "code",
      "execution_count": 2,
      "metadata": {
        "id": "HAc96vzSjv61"
      },
      "outputs": [],
      "source": [
        "# # Instalasi library PEFT\n",
        "# !pip install peft"
      ]
    },
    {
      "cell_type": "code",
      "execution_count": 3,
      "metadata": {
        "id": "gobB7Rm2vRvX"
      },
      "outputs": [],
      "source": [
        "# # Instalasi library evaluate\n",
        "# !pip install evaluate"
      ]
    },
    {
      "cell_type": "code",
      "execution_count": null,
      "metadata": {
        "id": "Ifcpm5bwlEmN"
      },
      "outputs": [
        {
          "name": "stderr",
          "output_type": "stream",
          "text": [
            "c:\\Users\\Acer-Nitro\\AppData\\Local\\Programs\\Python\\Python311\\Lib\\site-packages\\tqdm\\auto.py:21: TqdmWarning: IProgress not found. Please update jupyter and ipywidgets. See https://ipywidgets.readthedocs.io/en/stable/user_install.html\n",
            "  from .autonotebook import tqdm as notebook_tqdm\n"
          ]
        },
        {
          "name": "stdout",
          "output_type": "stream",
          "text": [
            "WARNING:tensorflow:From c:\\Users\\Acer-Nitro\\AppData\\Local\\Programs\\Python\\Python311\\Lib\\site-packages\\tf_keras\\src\\losses.py:2976: The name tf.losses.sparse_softmax_cross_entropy is deprecated. Please use tf.compat.v1.losses.sparse_softmax_cross_entropy instead.\n",
            "\n"
          ]
        }
      ],
      "source": [
        "# Import library yang diperlukan\n",
        "import pandas as pd\n",
        "import matplotlib.pyplot as plt\n",
        "import seaborn as sns\n",
        "import numpy as np\n",
        "from sklearn.utils import resample\n",
        "from datasets import Dataset, DatasetDict\n",
        "from random import randrange\n",
        "\n",
        "# Import library dari transformers dan optuna\n",
        "from transformers import AutoTokenizer, AutoModelForSequenceClassification, TrainingArguments, Trainer\n",
        "import optuna\n",
        "from peft import LoraConfig, get_peft_model\n",
        "\n",
        "# load metrics\n",
        "import evaluate\n",
        "import numpy as np\n",
        "from transformers import DataCollatorWithPadding\n",
        "from sklearn.metrics import f1_score\n",
        "\n",
        "# Visualisasi Confusion Matrix\n",
        "from sklearn.metrics import confusion_matrix\n",
        "import seaborn as sns\n",
        "import matplotlib.pyplot as plt\n"
      ]
    },
    {
      "cell_type": "code",
      "execution_count": 5,
      "metadata": {
        "id": "SKd1DCHIt41f"
      },
      "outputs": [],
      "source": [
        "# Muat dataset bahasa indonesia\n",
        "ind_data_valid = pd.read_json(\"Data/ind-valid.json\")\n",
        "ind_data_test = pd.read_json(\"Data/indo-test.json\")\n",
        "ind_data_train = pd.read_json(\"Data/indo-train.json\")"
      ]
    },
    {
      "cell_type": "code",
      "execution_count": 6,
      "metadata": {
        "id": "cFSvcJppuLVX"
      },
      "outputs": [],
      "source": [
        "# Muat dataset bahasa jawa\n",
        "jav_data_valid = pd.read_csv(\"Data/nusa_alinea-author-jav-valid.csv\")\n",
        "jav_data_train = pd.read_csv(\"Data/nusa_alinea-author-jav-train.csv\")\n",
        "jav_data_test = pd.read_csv(\"Data/nusa_alinea-author-jav-test.csv\")"
      ]
    },
    {
      "cell_type": "code",
      "execution_count": 7,
      "metadata": {
        "id": "MSZZAZgUuOE5"
      },
      "outputs": [],
      "source": [
        "# Muat dataset bahasa sunda\n",
        "sun_data_valid = pd.read_csv(\"Data/nusa_alinea-author-sun-valid.csv\")\n",
        "sun_data_train = pd.read_csv(\"Data/nusa_alinea-author-sun-train.csv\")\n",
        "sun_data_test = pd.read_csv(\"Data/nusa_alinea-author-sun-test.csv\")"
      ]
    },
    {
      "cell_type": "code",
      "execution_count": 8,
      "metadata": {
        "id": "9wVkCP3fvi5G"
      },
      "outputs": [],
      "source": [
        "# Muat dataset bahasa Minang\n",
        "min_data_valid = pd.read_csv(\"Data/nusa_alinea-author-min-valid.csv\")\n",
        "min_data_train = pd.read_csv(\"Data/nusa_alinea-author-min-train.csv\")\n",
        "min_data_test = pd.read_csv(\"Data/nusa_alinea-author-min-test.csv\")"
      ]
    },
    {
      "cell_type": "code",
      "execution_count": 9,
      "metadata": {
        "colab": {
          "base_uri": "https://localhost:8080/",
          "height": 293
        },
        "id": "NeMV0Cm-vrIi",
        "outputId": "cc4e0f0c-1868-4414-97ef-fab6f98a6d83"
      },
      "outputs": [
        {
          "data": {
            "text/html": [
              "<div>\n",
              "<style scoped>\n",
              "    .dataframe tbody tr th:only-of-type {\n",
              "        vertical-align: middle;\n",
              "    }\n",
              "\n",
              "    .dataframe tbody tr th {\n",
              "        vertical-align: top;\n",
              "    }\n",
              "\n",
              "    .dataframe thead th {\n",
              "        text-align: right;\n",
              "    }\n",
              "</style>\n",
              "<table border=\"1\" class=\"dataframe\">\n",
              "  <thead>\n",
              "    <tr style=\"text-align: right;\">\n",
              "      <th></th>\n",
              "      <th>id</th>\n",
              "      <th>text</th>\n",
              "      <th>label</th>\n",
              "    </tr>\n",
              "  </thead>\n",
              "  <tbody>\n",
              "    <tr>\n",
              "      <th>0</th>\n",
              "      <td>1504116000-trump-cek-lokasi-badai-harvey-di-te...</td>\n",
              "      <td>Jakarta , CNN Indonesia - - Presiden Amerika S...</td>\n",
              "      <td>Jakarta , CNN Indonesia - - Presiden Amerika S...</td>\n",
              "    </tr>\n",
              "    <tr>\n",
              "      <th>1</th>\n",
              "      <td>1484695838-panglima-tni-rapim-2017-punya-nilai...</td>\n",
              "      <td>Jakarta , CNN Indonesia - - Panglima TNI Jende...</td>\n",
              "      <td>Jakarta , CNN Indonesia - - Panglima TNI Jende...</td>\n",
              "    </tr>\n",
              "    <tr>\n",
              "      <th>2</th>\n",
              "      <td>1519334587-jelang-pilgub-jateng-ini-janji-sudi...</td>\n",
              "      <td>Suara.com - Calon Gubernur Jawa Tengah Sudirma...</td>\n",
              "      <td>Suara.com - Calon Gubernur Jawa Tengah Sudirma...</td>\n",
              "    </tr>\n",
              "    <tr>\n",
              "      <th>3</th>\n",
              "      <td>1497300420-jokowi-peringati-nuzulul-quran-bers...</td>\n",
              "      <td>Jakarta , CNN Indonesia - - Presiden Joko Wido...</td>\n",
              "      <td>Jakarta , CNN Indonesia - - Presiden Joko Wido...</td>\n",
              "    </tr>\n",
              "    <tr>\n",
              "      <th>4</th>\n",
              "      <td>1513474987-setya-novanto-diprediksi-tak-bakal-...</td>\n",
              "      <td>Kasus dugaan korupsi proyek e - KTP yang menje...</td>\n",
              "      <td>Kasus dugaan korupsi proyek e - KTP yang menje...</td>\n",
              "    </tr>\n",
              "  </tbody>\n",
              "</table>\n",
              "</div>"
            ],
            "text/plain": [
              "                                                  id  \\\n",
              "0  1504116000-trump-cek-lokasi-badai-harvey-di-te...   \n",
              "1  1484695838-panglima-tni-rapim-2017-punya-nilai...   \n",
              "2  1519334587-jelang-pilgub-jateng-ini-janji-sudi...   \n",
              "3  1497300420-jokowi-peringati-nuzulul-quran-bers...   \n",
              "4  1513474987-setya-novanto-diprediksi-tak-bakal-...   \n",
              "\n",
              "                                                text  \\\n",
              "0  Jakarta , CNN Indonesia - - Presiden Amerika S...   \n",
              "1  Jakarta , CNN Indonesia - - Panglima TNI Jende...   \n",
              "2  Suara.com - Calon Gubernur Jawa Tengah Sudirma...   \n",
              "3  Jakarta , CNN Indonesia - - Presiden Joko Wido...   \n",
              "4  Kasus dugaan korupsi proyek e - KTP yang menje...   \n",
              "\n",
              "                                               label  \n",
              "0  Jakarta , CNN Indonesia - - Presiden Amerika S...  \n",
              "1  Jakarta , CNN Indonesia - - Panglima TNI Jende...  \n",
              "2  Suara.com - Calon Gubernur Jawa Tengah Sudirma...  \n",
              "3  Jakarta , CNN Indonesia - - Presiden Joko Wido...  \n",
              "4  Kasus dugaan korupsi proyek e - KTP yang menje...  "
            ]
          },
          "execution_count": 9,
          "metadata": {},
          "output_type": "execute_result"
        }
      ],
      "source": [
        "# Menampilkan beberapa baris pertama dari salah satu dataset (bahasa indonesia)\n",
        "ind_data_valid.head()"
      ]
    },
    {
      "cell_type": "markdown",
      "metadata": {
        "id": "poX9Cf79vyLX"
      },
      "source": [
        "# Preprocessing data"
      ]
    },
    {
      "cell_type": "markdown",
      "metadata": {
        "id": "ggp_2qIVzTo5"
      },
      "source": [
        "## Menghapus kolom yang tidak diperlukan"
      ]
    },
    {
      "cell_type": "code",
      "execution_count": 10,
      "metadata": {
        "colab": {
          "base_uri": "https://localhost:8080/"
        },
        "id": "srckJwW6wU11",
        "outputId": "28897cc4-e545-4342-abf8-379182dcb878"
      },
      "outputs": [
        {
          "name": "stdout",
          "output_type": "stream",
          "text": [
            "<class 'pandas.core.frame.DataFrame'>\n",
            "RangeIndex: 1880 entries, 0 to 1879\n",
            "Data columns (total 3 columns):\n",
            " #   Column  Non-Null Count  Dtype \n",
            "---  ------  --------------  ----- \n",
            " 0   id      1880 non-null   object\n",
            " 1   text    1880 non-null   object\n",
            " 2   label   1880 non-null   object\n",
            "dtypes: object(3)\n",
            "memory usage: 44.2+ KB\n"
          ]
        }
      ],
      "source": [
        "# Menampilkan informasi dataframe bahasa indonesia valid\n",
        "ind_data_valid.info()"
      ]
    },
    {
      "cell_type": "code",
      "execution_count": 11,
      "metadata": {
        "id": "acadexxGvwQ_"
      },
      "outputs": [],
      "source": [
        "# Mengahapus kolom yang tidak diperlukan (id dan label)\n",
        "ind_data_valid = ind_data_valid.drop(columns=[\"id\",\"label\"])\n",
        "ind_data_test = ind_data_test.drop(columns=[\"id\",\"label\"])\n",
        "ind_data_train = ind_data_train.drop(columns=[\"id\",\"label\"])"
      ]
    },
    {
      "cell_type": "code",
      "execution_count": 12,
      "metadata": {
        "colab": {
          "base_uri": "https://localhost:8080/"
        },
        "id": "r1_IjomxxPBr",
        "outputId": "a2edc2df-8b9a-4b58-c4f0-5d41fa7be452"
      },
      "outputs": [
        {
          "name": "stdout",
          "output_type": "stream",
          "text": [
            "<class 'pandas.core.frame.DataFrame'>\n",
            "RangeIndex: 7298 entries, 0 to 7297\n",
            "Data columns (total 3 columns):\n",
            " #   Column     Non-Null Count  Dtype \n",
            "---  ------     --------------  ----- \n",
            " 0   id         7298 non-null   int64 \n",
            " 1   paragraph  7298 non-null   object\n",
            " 2   author_id  7298 non-null   object\n",
            "dtypes: int64(1), object(2)\n",
            "memory usage: 171.2+ KB\n"
          ]
        }
      ],
      "source": [
        "# Menampilkan informasi dataframe bahasa jawa train\n",
        "jav_data_train.info()"
      ]
    },
    {
      "cell_type": "code",
      "execution_count": 13,
      "metadata": {
        "id": "XAONuuLLxBNK"
      },
      "outputs": [],
      "source": [
        "# Mengahapus kolom yang tidak diperlukan (id dan author_id)\n",
        "jav_data_valid = jav_data_valid.drop(columns=[\"id\",\"author_id\"])\n",
        "jav_data_test = jav_data_test.drop(columns=[\"id\",\"author_id\"])\n",
        "jav_data_train = jav_data_train.drop(columns=[\"id\",\"author_id\"])"
      ]
    },
    {
      "cell_type": "code",
      "execution_count": 14,
      "metadata": {
        "colab": {
          "base_uri": "https://localhost:8080/"
        },
        "id": "aSN0wJVsxYYu",
        "outputId": "2a6b5be9-2ee2-4735-b10f-9fe03f4f9068"
      },
      "outputs": [
        {
          "name": "stdout",
          "output_type": "stream",
          "text": [
            "<class 'pandas.core.frame.DataFrame'>\n",
            "RangeIndex: 6688 entries, 0 to 6687\n",
            "Data columns (total 3 columns):\n",
            " #   Column     Non-Null Count  Dtype \n",
            "---  ------     --------------  ----- \n",
            " 0   id         6688 non-null   int64 \n",
            " 1   paragraph  6688 non-null   object\n",
            " 2   author_id  6688 non-null   object\n",
            "dtypes: int64(1), object(2)\n",
            "memory usage: 156.9+ KB\n"
          ]
        }
      ],
      "source": [
        "# Menampilkan informasi dataframe bahasa sunda train\n",
        "sun_data_train.info()"
      ]
    },
    {
      "cell_type": "code",
      "execution_count": 15,
      "metadata": {
        "id": "jFMAr3OIxblt"
      },
      "outputs": [],
      "source": [
        "# Mengahapus kolom yang tidak diperlukan (id dan author_id)\n",
        "sun_data_valid = sun_data_valid.drop(columns=[\"id\",\"author_id\"])\n",
        "sun_data_test = sun_data_test.drop(columns=[\"id\",\"author_id\"])\n",
        "sun_data_train = sun_data_train.drop(columns=[\"id\",\"author_id\"])"
      ]
    },
    {
      "cell_type": "code",
      "execution_count": 16,
      "metadata": {
        "colab": {
          "base_uri": "https://localhost:8080/"
        },
        "id": "wpQUNhaVy1u-",
        "outputId": "918f0c03-0843-4cba-dde6-744f4999ac2d"
      },
      "outputs": [
        {
          "name": "stdout",
          "output_type": "stream",
          "text": [
            "<class 'pandas.core.frame.DataFrame'>\n",
            "RangeIndex: 2000 entries, 0 to 1999\n",
            "Data columns (total 3 columns):\n",
            " #   Column     Non-Null Count  Dtype \n",
            "---  ------     --------------  ----- \n",
            " 0   id         2000 non-null   int64 \n",
            " 1   paragraph  2000 non-null   object\n",
            " 2   author_id  2000 non-null   object\n",
            "dtypes: int64(1), object(2)\n",
            "memory usage: 47.0+ KB\n"
          ]
        }
      ],
      "source": [
        "# Menampilkan informasi dataframe bahasa minang test\n",
        "min_data_test.info()"
      ]
    },
    {
      "cell_type": "code",
      "execution_count": 17,
      "metadata": {
        "id": "U7dpFG8qy7rR"
      },
      "outputs": [],
      "source": [
        "# Mengahapus kolom yang tidak diperlukan (id dan author_id)\n",
        "min_data_valid = min_data_valid.drop(columns=[\"id\",\"author_id\"])\n",
        "min_data_test = min_data_test.drop(columns=[\"id\",\"author_id\"])\n",
        "min_data_train = min_data_train.drop(columns=[\"id\",\"author_id\"])"
      ]
    },
    {
      "cell_type": "markdown",
      "metadata": {
        "id": "VlfrC1yd0Nma"
      },
      "source": [
        "**Notd**: Tujuan menghapus kolom yaitu karena pada penelitian ini melakukan proses deteksi dialect oleh karena itu kolom yang diperlukan hanyalah kolom text, atau paragraph. Dimana nantinya hal tersebut berfungsi untuk melihat tata bahasa dan juga gaya penulisan antara bahasa satu dengan lainnya"
      ]
    },
    {
      "cell_type": "markdown",
      "metadata": {
        "id": "YjZpXvHJzaWh"
      },
      "source": [
        "## Menambahkan, Menggabungkan, dan merubah Kolom"
      ]
    },
    {
      "cell_type": "code",
      "execution_count": 18,
      "metadata": {
        "id": "Zj2FiB3C3TVM"
      },
      "outputs": [],
      "source": [
        "# menambahkan kolom 'dialect'\n",
        "ind_data_valid[\"dialect\"] = \"ind\"\n",
        "ind_data_test[\"dialect\"] = \"ind\"\n",
        "ind_data_train[\"dialect\"] = \"ind\"\n",
        "\n",
        "sun_data_test[\"dialect\"] = \"sun\"\n",
        "sun_data_train[\"dialect\"] = \"sun\"\n",
        "sun_data_valid[\"dialect\"] = \"sun\"\n",
        "\n",
        "jav_data_test[\"dialect\"] = \"jav\"\n",
        "jav_data_train[\"dialect\"] = \"jav\"\n",
        "jav_data_valid[\"dialect\"] = \"jav\"\n",
        "\n",
        "min_data_test[\"dialect\"] = \"min\"\n",
        "min_data_train[\"dialect\"] = \"min\"\n",
        "min_data_valid[\"dialect\"] = \"min\""
      ]
    },
    {
      "cell_type": "code",
      "execution_count": 19,
      "metadata": {
        "id": "06KKpWvBzOYc"
      },
      "outputs": [],
      "source": [
        "# Menggabungkan dataset bahasa daerah (Sunda, Jawa, Minang)\n",
        "daerah_data_valid = pd.concat([sun_data_valid, jav_data_valid], ignore_index=True)\n",
        "daerah_data_valid = pd.concat([daerah_data_valid, min_data_valid], ignore_index=True)\n",
        "\n",
        "daerah_data_test = pd.concat([sun_data_test, jav_data_test], ignore_index=True)\n",
        "daerah_data_test = pd.concat([daerah_data_test, min_data_test], ignore_index=True)\n",
        "\n",
        "daerah_data_train = pd.concat([sun_data_train, jav_data_train], ignore_index=True)\n",
        "daerah_data_train = pd.concat([daerah_data_train, min_data_train], ignore_index=True)"
      ]
    },
    {
      "cell_type": "code",
      "execution_count": 20,
      "metadata": {
        "id": "sAUM9ldC5D2Y"
      },
      "outputs": [],
      "source": [
        "# Mengubah nama kolom 'paragraph' menjadi 'text'\n",
        "daerah_data_valid.rename(columns={'paragraph': 'text'}, inplace=True)\n",
        "daerah_data_test.rename(columns={'paragraph': 'text'}, inplace=True)\n",
        "daerah_data_train.rename(columns={'paragraph': 'text'}, inplace=True)"
      ]
    },
    {
      "cell_type": "code",
      "execution_count": 21,
      "metadata": {
        "id": "cgF3PLwb6IR3"
      },
      "outputs": [],
      "source": [
        "# Menggabungkan dataset bahasa Indonesia dengan dataset bahasa daerah\n",
        "data_valid = pd.concat([ind_data_valid, daerah_data_valid], ignore_index=True)\n",
        "data_test = pd.concat([ind_data_test, daerah_data_test], ignore_index=True)\n",
        "data_train = pd.concat([ind_data_train, daerah_data_train], ignore_index=True)"
      ]
    },
    {
      "cell_type": "code",
      "execution_count": 22,
      "metadata": {
        "colab": {
          "base_uri": "https://localhost:8080/"
        },
        "id": "W6EKNbFu7EcO",
        "outputId": "13a88354-b7ce-435d-db31-dc4e747e12bc"
      },
      "outputs": [
        {
          "name": "stdout",
          "output_type": "stream",
          "text": [
            "<class 'pandas.core.frame.DataFrame'>\n",
            "RangeIndex: 4270 entries, 0 to 4269\n",
            "Data columns (total 2 columns):\n",
            " #   Column   Non-Null Count  Dtype \n",
            "---  ------   --------------  ----- \n",
            " 0   text     4270 non-null   object\n",
            " 1   dialect  4270 non-null   object\n",
            "dtypes: object(2)\n",
            "memory usage: 66.8+ KB\n"
          ]
        }
      ],
      "source": [
        "# Menampilkan informasi data valid\n",
        "data_valid.info()"
      ]
    },
    {
      "cell_type": "code",
      "execution_count": 23,
      "metadata": {
        "colab": {
          "base_uri": "https://localhost:8080/"
        },
        "id": "4a9nufnf9jvH",
        "outputId": "841bcab4-7422-4779-fd4a-1b2e12cbbd32"
      },
      "outputs": [
        {
          "name": "stdout",
          "output_type": "stream",
          "text": [
            "<class 'pandas.core.frame.DataFrame'>\n",
            "RangeIndex: 8810 entries, 0 to 8809\n",
            "Data columns (total 2 columns):\n",
            " #   Column   Non-Null Count  Dtype \n",
            "---  ------   --------------  ----- \n",
            " 0   text     8810 non-null   object\n",
            " 1   dialect  8810 non-null   object\n",
            "dtypes: object(2)\n",
            "memory usage: 137.8+ KB\n"
          ]
        }
      ],
      "source": [
        "# Menampilkan informasi data test\n",
        "data_test.info()"
      ]
    },
    {
      "cell_type": "code",
      "execution_count": 24,
      "metadata": {
        "colab": {
          "base_uri": "https://localhost:8080/"
        },
        "id": "yr1oDtQR9jg-",
        "outputId": "333c4cf9-20e0-4cad-f702-d88a98a1ed0d"
      },
      "outputs": [
        {
          "name": "stdout",
          "output_type": "stream",
          "text": [
            "<class 'pandas.core.frame.DataFrame'>\n",
            "RangeIndex: 34040 entries, 0 to 34039\n",
            "Data columns (total 2 columns):\n",
            " #   Column   Non-Null Count  Dtype \n",
            "---  ------   --------------  ----- \n",
            " 0   text     34040 non-null  object\n",
            " 1   dialect  34040 non-null  object\n",
            "dtypes: object(2)\n",
            "memory usage: 532.0+ KB\n"
          ]
        }
      ],
      "source": [
        "# Menampilkan informasi data train\n",
        "data_train.info()"
      ]
    },
    {
      "cell_type": "code",
      "execution_count": 25,
      "metadata": {
        "id": "7Pf2j9Y0_FuT"
      },
      "outputs": [],
      "source": [
        "# Mengubah teks di semua dataset menjadi huruf kecil (lowercase)\n",
        "data_valid[\"text\"] = data_valid[\"text\"].str.lower()\n",
        "data_test[\"text\"] = data_test[\"text\"].str.lower()\n",
        "data_train[\"text\"] = data_train[\"text\"].str.lower()"
      ]
    },
    {
      "cell_type": "markdown",
      "metadata": {
        "id": "o4H8s8gq-P5i"
      },
      "source": [
        "## Mengurangi Jumlah dataset validation, testing, dan training"
      ]
    },
    {
      "cell_type": "code",
      "execution_count": 26,
      "metadata": {
        "colab": {
          "base_uri": "https://localhost:8080/",
          "height": 560
        },
        "id": "vCbS6PUU7Lew",
        "outputId": "d59e23fe-5a6c-49ef-d8c6-741ab80578b8"
      },
      "outputs": [
        {
          "data": {
            "image/png": "[encoded data removed]",
            "text/plain": [
              "<Figure size 1000x600 with 1 Axes>"
            ]
          },
          "metadata": {},
          "output_type": "display_data"
        }
      ],
      "source": [
        "# Visualisasi persebaran data train berdasarkan dialect\n",
        "\n",
        " # Hitung distribusi dialect\n",
        "dialect_counts = data_train['dialect'].value_counts()\n",
        "\n",
        "# Buat bar chart\n",
        "plt.figure(figsize=(10, 6))\n",
        "\n",
        "# Buat bar chart dengan warna yang menarik\n",
        "bars = plt.bar(dialect_counts.index, dialect_counts.values,\n",
        "               color=sns.color_palette(\"husl\", len(dialect_counts)),\n",
        "               edgecolor='black', linewidth=0.7)\n",
        "\n",
        "plt.title('Persebaran Data Berdasarkan Dialect', fontsize=16, fontweight='bold', pad=20)\n",
        "plt.xlabel('Dialect', fontsize=12, fontweight='bold')\n",
        "plt.ylabel('Jumlah Data', fontsize=12, fontweight='bold')\n",
        "\n",
        "# Rotasi label x-axis jika diperlukan\n",
        "plt.xticks(rotation=45, ha='right')\n",
        "\n",
        "# Tambahkan grid untuk kemudahan membaca\n",
        "plt.grid(axis='y', alpha=0.3, linestyle='--')\n",
        "\n",
        "# Tambahkan nilai di atas setiap bar\n",
        "for bar, value in zip(bars, dialect_counts.values):\n",
        "    plt.text(bar.get_x() + bar.get_width()/2, bar.get_height() + 0.1,\n",
        "             str(value), ha='center', va='bottom', fontweight='bold', fontsize=11)\n",
        "\n",
        "# Sesuaikan layout agar tidak terpotong\n",
        "plt.tight_layout()\n",
        "\n",
        "# Tampilkan chart\n",
        "plt.show()"
      ]
    },
    {
      "cell_type": "markdown",
      "metadata": {
        "id": "jlWMyquBIVAs"
      },
      "source": [
        "### V1-Menghapus data training"
      ]
    },
    {
      "cell_type": "code",
      "execution_count": 27,
      "metadata": {
        "id": "8LPDetDCCQH0"
      },
      "outputs": [],
      "source": [
        "# # Random sampling 10k dari seluruh dataset (Dikomentari sesuai instruksi sebelumnya)\n",
        "# target_size = 10000\n",
        "# data_random = data_train.sample(n=target_size, random_state=42).reset_index(drop=True)"
      ]
    },
    {
      "cell_type": "code",
      "execution_count": 28,
      "metadata": {
        "id": "H_7cdBSbHxpu"
      },
      "outputs": [],
      "source": [
        "# # Menghitung persebaran data sebelum dan sesudah random sampling (Dikomentari sesuai instruksi sebelumnya)\n",
        "# original_counts = data_train['dialect'].value_counts()\n",
        "# random_counts = data_random['dialect'].value_counts()"
      ]
    },
    {
      "cell_type": "code",
      "execution_count": 29,
      "metadata": {
        "id": "pQPq-xT7Hn_A"
      },
      "outputs": [],
      "source": [
        "# # Visualisasi persebaran data sebelum dan sesudah random sampling (Dikomentari sesuai instruksi sebelumnya)\n",
        "# fig, (ax1, ax2) = plt.subplots(1, 2, figsize=(12, 5))\n",
        "\n",
        "# # Before\n",
        "# original_counts.plot(kind='bar', ax=ax1, color='lightcoral')\n",
        "# ax1.set_title('Data Asli')\n",
        "# ax1.set_ylabel('Jumlah Data')\n",
        "# ax1.tick_params(axis='x', rotation=45)\n",
        "\n",
        "# # After\n",
        "# random_counts.plot(kind='bar', ax=ax2, color='gold')\n",
        "# ax2.set_title(f'Random Sampling ({len(data_random)})')\n",
        "# ax2.set_ylabel('Jumlah Data')\n",
        "# ax2.tick_params(axis='x', rotation=45)\n",
        "\n",
        "# plt.tight_layout()\n",
        "# plt.show()"
      ]
    },
    {
      "cell_type": "markdown",
      "metadata": {
        "id": "UwXOm9QPIXiO"
      },
      "source": [
        "### V2-Mengapus data training (balance)"
      ]
    },
    {
      "cell_type": "code",
      "execution_count": 30,
      "metadata": {
        "id": "PTrMS2crHsba"
      },
      "outputs": [],
      "source": [
        "# Target data seimbang per dialek\n",
        "# target_per_dialect = 2500\n",
        "target_per_dialect = 375\n",
        "\n",
        "# Melakukan balanced sampling untuk data training\n",
        "balanced_data = []\n",
        "for dialect in data_train['dialect'].unique():\n",
        "    dialect_data = data_train[data_train['dialect'] == dialect]\n",
        "    sampled = resample(dialect_data, n_samples=target_per_dialect,\n",
        "                      random_state=42, replace=False)\n",
        "    balanced_data.append(sampled)\n",
        "\n",
        "# Menggabungkan dan mengacak data training yang sudah seimbang\n",
        "data_training = pd.concat(balanced_data, ignore_index=True)\n",
        "data_training = data_training.sample(frac=1, random_state=42).reset_index(drop=True)"
      ]
    },
    {
      "cell_type": "code",
      "execution_count": 31,
      "metadata": {
        "colab": {
          "base_uri": "https://localhost:8080/",
          "height": 391
        },
        "id": "hfV2MBjpIbKk",
        "outputId": "95be8abc-9ed1-46a4-94eb-75282bc6ebc0"
      },
      "outputs": [
        {
          "data": {
            "image/png": "[encoded data removed]",
            "text/plain": [
              "<Figure size 1200x500 with 2 Axes>"
            ]
          },
          "metadata": {},
          "output_type": "display_data"
        }
      ],
      "source": [
        "# Visualisasi persebaran data training sebelum dan setelah balancing\n",
        "fig, (ax1, ax2) = plt.subplots(1, 2, figsize=(12, 5))\n",
        "\n",
        "# Sebelum Balancing\n",
        "data_train['dialect'].value_counts().plot(kind='bar', ax=ax1, color='skyblue')\n",
        "ax1.set_title('Sebelum Balancing')\n",
        "ax1.set_ylabel('Jumlah Data')\n",
        "\n",
        "# Setelah Balancing\n",
        "data_training['dialect'].value_counts().plot(kind='bar', ax=ax2, color='lightgreen')\n",
        "ax2.set_title('Setelah Balancing')\n",
        "ax2.set_ylabel('Jumlah Data')\n",
        "\n",
        "plt.tight_layout()\n",
        "plt.show()"
      ]
    },
    {
      "cell_type": "markdown",
      "metadata": {
        "id": "l54DVXgZI_CH"
      },
      "source": [
        "### menghapus data testing menjadi 550"
      ]
    },
    {
      "cell_type": "code",
      "execution_count": 32,
      "metadata": {
        "colab": {
          "base_uri": "https://localhost:8080/",
          "height": 560
        },
        "id": "0C98vYc9JFXP",
        "outputId": "ac38b4f1-c0a6-4398-a90e-edac0a68db48"
      },
      "outputs": [
        {
          "data": {
            "image/png": "[encoded data removed]",
            "text/plain": [
              "<Figure size 1000x600 with 1 Axes>"
            ]
          },
          "metadata": {},
          "output_type": "display_data"
        }
      ],
      "source": [
        "# Visualisasi persebaran data testing\n",
        " # Hitung distribusi dialect\n",
        "dialect_counts = data_test['dialect'].value_counts()\n",
        "\n",
        "# Buat bar chart\n",
        "plt.figure(figsize=(10, 6))\n",
        "\n",
        "# Buat bar chart dengan warna yang menarik\n",
        "bars = plt.bar(dialect_counts.index, dialect_counts.values,\n",
        "               color=sns.color_palette(\"husl\", len(dialect_counts)),\n",
        "               edgecolor='black', linewidth=0.7)\n",
        "\n",
        "plt.title('Persebaran Data Berdasarkan Dialect', fontsize=16, fontweight='bold', pad=20)\n",
        "plt.xlabel('Dialect', fontsize=12, fontweight='bold')\n",
        "plt.ylabel('Jumlah Data', fontsize=12, fontweight='bold')\n",
        "\n",
        "# Rotasi label x-axis jika diperlukan\n",
        "plt.xticks(rotation=45, ha='right')\n",
        "\n",
        "# Tambahkan grid untuk kemudahan membaca\n",
        "plt.grid(axis='y', alpha=0.3, linestyle='--')\n",
        "\n",
        "# Tambahkan nilai di atas setiap bar\n",
        "for bar, value in zip(bars, dialect_counts.values):\n",
        "    plt.text(bar.get_x() + bar.get_width()/2, bar.get_height() + 0.1,\n",
        "             str(value), ha='center', va='bottom', fontweight='bold', fontsize=11)\n",
        "\n",
        "# Sesuaikan layout agar tidak terpotong\n",
        "plt.tight_layout()\n",
        "\n",
        "# Tampilkan chart\n",
        "plt.show()"
      ]
    },
    {
      "cell_type": "code",
      "execution_count": 33,
      "metadata": {
        "id": "eOaewN8cJfXC"
      },
      "outputs": [],
      "source": [
        "# Random sampling  dari seluruh dataset testing\n",
        "target_size_test = 500\n",
        "data_testing = data_test.sample(n=target_size_test, random_state=42).reset_index(drop=True)"
      ]
    },
    {
      "cell_type": "code",
      "execution_count": 34,
      "metadata": {
        "colab": {
          "base_uri": "https://localhost:8080/",
          "height": 392
        },
        "id": "1ZQcdUrJJ0tK",
        "outputId": "466db6af-d801-42a9-a790-88c8a1283738"
      },
      "outputs": [
        {
          "data": {
            "image/png": "[encoded data removed]",
            "text/plain": [
              "<Figure size 1200x500 with 2 Axes>"
            ]
          },
          "metadata": {},
          "output_type": "display_data"
        }
      ],
      "source": [
        "# Menghitung dan memvisualisasikan persebaran data testing sebelum dan sesudah random sampling\n",
        "original_counts_test = data_test['dialect'].value_counts()\n",
        "random_counts_test = data_testing['dialect'].value_counts()\n",
        "\n",
        "# Visualisasi\n",
        "fig, (ax1, ax2) = plt.subplots(1, 2, figsize=(12, 5))\n",
        "\n",
        "# Sebelum\n",
        "original_counts_test.plot(kind='bar', ax=ax1, color='lightcoral')\n",
        "ax1.set_title('Data Asli')\n",
        "ax1.set_ylabel('Jumlah Data')\n",
        "ax1.tick_params(axis='x', rotation=45)\n",
        "\n",
        "# Sesudah\n",
        "random_counts_test.plot(kind='bar', ax=ax2, color='gold')\n",
        "ax2.set_title(f'Random Sampling ({len(data_testing)})')\n",
        "ax2.set_ylabel('Jumlah Data')\n",
        "ax2.tick_params(axis='x', rotation=45)\n",
        "\n",
        "plt.tight_layout()\n",
        "plt.show()"
      ]
    },
    {
      "cell_type": "markdown",
      "metadata": {
        "id": "fixRtzlaKU_L"
      },
      "source": [
        "### Hapus Data validation"
      ]
    },
    {
      "cell_type": "code",
      "execution_count": 35,
      "metadata": {
        "colab": {
          "base_uri": "https://localhost:8080/",
          "height": 560
        },
        "id": "OKfIPZRGKO4M",
        "outputId": "d610be7d-92ac-4df3-a8b4-4f39ab0be860"
      },
      "outputs": [
        {
          "data": {
            "image/png": "[encoded data removed]",
            "text/plain": [
              "<Figure size 1000x600 with 1 Axes>"
            ]
          },
          "metadata": {},
          "output_type": "display_data"
        }
      ],
      "source": [
        "# Visualisasi persebaran data validation\n",
        " # Hitung distribusi dialect\n",
        "dialect_counts = data_valid['dialect'].value_counts()\n",
        "\n",
        "# Buat bar chart\n",
        "plt.figure(figsize=(10, 6))\n",
        "\n",
        "# Buat bar chart dengan warna yang menarik\n",
        "bars = plt.bar(dialect_counts.index, dialect_counts.values,\n",
        "               color=sns.color_palette(\"husl\", len(dialect_counts)),\n",
        "               edgecolor='black', linewidth=0.7)\n",
        "\n",
        "plt.title('Persebaran Data Berdasarkan Dialect', fontsize=16, fontweight='bold', pad=20)\n",
        "plt.xlabel('Dialect', fontsize=12, fontweight='bold')\n",
        "plt.ylabel('Jumlah Data', fontsize=12, fontweight='bold')\n",
        "\n",
        "# Rotasi label x-axis jika diperlukan\n",
        "plt.xticks(rotation=45, ha='right')\n",
        "\n",
        "# Tambahkan grid untuk kemudahan membaca\n",
        "plt.grid(axis='y', alpha=0.3, linestyle='--')\n",
        "\n",
        "# Tambahkan nilai di atas setiap bar\n",
        "for bar, value in zip(bars, dialect_counts.values):\n",
        "    plt.text(bar.get_x() + bar.get_width()/2, bar.get_height() + 0.1,\n",
        "             str(value), ha='center', va='bottom', fontweight='bold', fontsize=11)\n",
        "\n",
        "# Sesuaikan layout agar tidak terpotong\n",
        "plt.tight_layout()\n",
        "\n",
        "# Tampilkan chart\n",
        "plt.show()"
      ]
    },
    {
      "cell_type": "code",
      "execution_count": 36,
      "metadata": {
        "id": "rsMtNQqB6IY3"
      },
      "outputs": [],
      "source": [
        "# Random sampling  dari seluruh dataset validation\n",
        "target_size_test = 500\n",
        "data_validation = data_test.sample(n=target_size_test, random_state=42).reset_index(drop=True)"
      ]
    },
    {
      "cell_type": "code",
      "execution_count": 37,
      "metadata": {
        "colab": {
          "base_uri": "https://localhost:8080/",
          "height": 392
        },
        "id": "Ryea5dp16Syp",
        "outputId": "842de03b-4a6d-46c4-c1e4-bc238135f418"
      },
      "outputs": [
        {
          "data": {
            "image/png": "[encoded data removed]",
            "text/plain": [
              "<Figure size 1200x500 with 2 Axes>"
            ]
          },
          "metadata": {},
          "output_type": "display_data"
        }
      ],
      "source": [
        "# Menghitung dan memvisualisasikan persebaran data testing sebelum dan sesudah random sampling\n",
        "original_counts_test = data_valid['dialect'].value_counts()\n",
        "random_counts_test = data_validation['dialect'].value_counts()\n",
        "\n",
        "# Visualisasi\n",
        "fig, (ax1, ax2) = plt.subplots(1, 2, figsize=(12, 5))\n",
        "\n",
        "# Sebelum\n",
        "original_counts_test.plot(kind='bar', ax=ax1, color='lightcoral')\n",
        "ax1.set_title('Data Asli')\n",
        "ax1.set_ylabel('Jumlah Data')\n",
        "ax1.tick_params(axis='x', rotation=45)\n",
        "\n",
        "# Sesudah\n",
        "random_counts_test.plot(kind='bar', ax=ax2, color='gold')\n",
        "ax2.set_title(f'Random Sampling ({len(data_testing)})')\n",
        "ax2.set_ylabel('Jumlah Data')\n",
        "ax2.tick_params(axis='x', rotation=45)\n",
        "\n",
        "plt.tight_layout()\n",
        "plt.show()"
      ]
    },
    {
      "cell_type": "markdown",
      "metadata": {
        "id": "lAwHKeRqOEFY"
      },
      "source": [
        "### Penjelasan"
      ]
    },
    {
      "cell_type": "markdown",
      "metadata": {
        "id": "tmUaHissLIgh"
      },
      "source": [
        "**Noted:**\n",
        "\n",
        "Pada tahap ini terdapat beberapa langkah yang dilakukan, mulai dari merubah nama kolom pada dataset, dan juga melakukan proses penggabungan dataset. Hal ini bertujuan agar data nantinya dapat digunakan dalam pelatihan model. Selain itu juga terdapat proses penghapusan atau penyeimbangan dataset, sebenarnya hal ini opsional untuk dilakukan. Pada tahap penghapusan dilakukan proses imbalance data dimana tiap kategori terdiri dari 375 data, jadi secara keseluruhan total data training yaitu 1500. Alasan menggunakan 1500 data yaitu karena pada proses pemodelan akan menjadi lebih ringan tentunya hal tersebut juga berdampak pada peforma model yang dihasilkan. untuk data testing berjumlah 500 data, dan data validation berjumlah 500."
      ]
    },
    {
      "cell_type": "code",
      "execution_count": 38,
      "metadata": {
        "id": "ZS2OWD6Smggp"
      },
      "outputs": [],
      "source": [
        "# Asumsi Anda sudah punya kamus pemetaan seperti ini:\n",
        "label2id = {'ind': 0, 'jav': 1, 'sun': 2, 'min': 3}\n",
        "\n",
        "# menambahkan kolom label berdasarkan pemetaan dialect\n",
        "data_training['label'] = data_training['dialect'].map(label2id)\n",
        "data_validation['label'] = data_validation['dialect'].map(label2id)\n",
        "data_testing['label'] = data_testing['dialect'].map(label2id)"
      ]
    },
    {
      "cell_type": "code",
      "execution_count": 39,
      "metadata": {
        "id": "Tt3J-nFxoPGj"
      },
      "outputs": [],
      "source": [
        "# # Mount Google Drive\n",
        "# from google.colab import drive\n",
        "# drive.mount('/content/drive')"
      ]
    },
    {
      "cell_type": "markdown",
      "metadata": {
        "id": "ilh3Lr7dbMdm"
      },
      "source": [
        "### Mengubah dataframe kedalam bentuk dataset"
      ]
    },
    {
      "cell_type": "code",
      "execution_count": 40,
      "metadata": {
        "colab": {
          "base_uri": "https://localhost:8080/",
          "height": 206
        },
        "id": "9QzT0Gbflyr-",
        "outputId": "dc965e78-2c07-4950-f8ba-7fc82910a878"
      },
      "outputs": [
        {
          "data": {
            "text/html": [
              "<div>\n",
              "<style scoped>\n",
              "    .dataframe tbody tr th:only-of-type {\n",
              "        vertical-align: middle;\n",
              "    }\n",
              "\n",
              "    .dataframe tbody tr th {\n",
              "        vertical-align: top;\n",
              "    }\n",
              "\n",
              "    .dataframe thead th {\n",
              "        text-align: right;\n",
              "    }\n",
              "</style>\n",
              "<table border=\"1\" class=\"dataframe\">\n",
              "  <thead>\n",
              "    <tr style=\"text-align: right;\">\n",
              "      <th></th>\n",
              "      <th>text</th>\n",
              "      <th>dialect</th>\n",
              "      <th>label</th>\n",
              "    </tr>\n",
              "  </thead>\n",
              "  <tbody>\n",
              "    <tr>\n",
              "      <th>0</th>\n",
              "      <td>omah sing ana ning pojok dalan kuwi jarena oma...</td>\n",
              "      <td>jav</td>\n",
              "      <td>1</td>\n",
              "    </tr>\n",
              "    <tr>\n",
              "      <th>1</th>\n",
              "      <td>tren nan muncul satelah korona manyarang salur...</td>\n",
              "      <td>min</td>\n",
              "      <td>3</td>\n",
              "    </tr>\n",
              "    <tr>\n",
              "      <th>2</th>\n",
              "      <td>abdi kacida reuwasna basa nuju meser es krim d...</td>\n",
              "      <td>sun</td>\n",
              "      <td>2</td>\n",
              "    </tr>\n",
              "    <tr>\n",
              "      <th>3</th>\n",
              "      <td>pernah basa sma abdi ngiringan lomba ngadongen...</td>\n",
              "      <td>sun</td>\n",
              "      <td>2</td>\n",
              "    </tr>\n",
              "    <tr>\n",
              "      <th>4</th>\n",
              "      <td>pagawean arka sapopoe ngan nyonyoo wae hp. ti ...</td>\n",
              "      <td>sun</td>\n",
              "      <td>2</td>\n",
              "    </tr>\n",
              "  </tbody>\n",
              "</table>\n",
              "</div>"
            ],
            "text/plain": [
              "                                                text dialect  label\n",
              "0  omah sing ana ning pojok dalan kuwi jarena oma...     jav      1\n",
              "1  tren nan muncul satelah korona manyarang salur...     min      3\n",
              "2  abdi kacida reuwasna basa nuju meser es krim d...     sun      2\n",
              "3  pernah basa sma abdi ngiringan lomba ngadongen...     sun      2\n",
              "4  pagawean arka sapopoe ngan nyonyoo wae hp. ti ...     sun      2"
            ]
          },
          "execution_count": 40,
          "metadata": {},
          "output_type": "execute_result"
        }
      ],
      "source": [
        "# Menampilkan 5 baris data teratas dari data training\n",
        "data_training.head()"
      ]
    },
    {
      "cell_type": "code",
      "execution_count": 41,
      "metadata": {
        "id": "ws7igY7kNp1g"
      },
      "outputs": [],
      "source": [
        "# Mengubah objek dataframe menjadi objek dataset dari library datasets\n",
        "training = Dataset.from_pandas(data_training)\n",
        "validation = Dataset.from_pandas(data_validation)\n",
        "testing = Dataset.from_pandas(data_testing)"
      ]
    },
    {
      "cell_type": "code",
      "execution_count": 42,
      "metadata": {
        "id": "4FUQCGQGbtBI"
      },
      "outputs": [],
      "source": [
        "# Menggabungkan ketiga dataset menjadi satu DatasetDict\n",
        "dialect_detect = DatasetDict({\n",
        "    'train': training,\n",
        "    'validation': validation,\n",
        "    'test': testing\n",
        "})"
      ]
    },
    {
      "cell_type": "code",
      "execution_count": 43,
      "metadata": {
        "colab": {
          "base_uri": "https://localhost:8080/"
        },
        "id": "3eBTbJuwb9NT",
        "outputId": "760869e2-d67b-4fda-eac2-c1f3f5bf691c"
      },
      "outputs": [
        {
          "name": "stdout",
          "output_type": "stream",
          "text": [
            "Struktur Dataset: DatasetDict({\n",
            "    train: Dataset({\n",
            "        features: ['text', 'dialect', 'label'],\n",
            "        num_rows: 1500\n",
            "    })\n",
            "    validation: Dataset({\n",
            "        features: ['text', 'dialect', 'label'],\n",
            "        num_rows: 500\n",
            "    })\n",
            "    test: Dataset({\n",
            "        features: ['text', 'dialect', 'label'],\n",
            "        num_rows: 500\n",
            "    })\n",
            "})\n"
          ]
        }
      ],
      "source": [
        "# Menampilkan struktur DatasetDict\n",
        "print(\"Struktur Dataset:\", dialect_detect)"
      ]
    },
    {
      "cell_type": "markdown",
      "metadata": {
        "id": "ENgoLZ5Cz7hQ"
      },
      "source": [
        "# Tokenisasi"
      ]
    },
    {
      "cell_type": "code",
      "execution_count": 44,
      "metadata": {
        "colab": {
          "base_uri": "https://localhost:8080/"
        },
        "id": "u4rOjqkx1UnA",
        "outputId": "0a872d3f-0ed9-4eae-a41d-536b11088914"
      },
      "outputs": [
        {
          "data": {
            "text/plain": [
              "{'text': 'sanjato tradisional yang mampunyoi banyak makna salah satunyo barasa dari daerah aceh yang banamo rencong/rincoeng/rinjoeng. sanjato rencong ko alah ado pado maso kesultanan islam sakitari abad ke-13. masyarakat aceh manggunoan rencong sebagai sanjato untuak malawan penjajah portugis dan belanda. manuruik masyarakat aceh sanjato ko marupokan simbol keberanaian, keperkasaan, pertahanan diri, jo perjuangan masyarakat aceh dari maso ka maso. jadi, sanjato tradisional banamo rencong dari aceh ko bagitu banyak makna yang samo makasuik nyo. rencong kalau dipacik pas bana gagang untuak awak mamacik nyo dan ujuang rencong ko agak malangkuang yang bagian ujuang nyo se. sanjato yang bernilai bana bagi kemajuan masyarakat aceh pado maso penjajahan.',\n",
              " 'dialect': 'min',\n",
              " 'label': 3}"
            ]
          },
          "execution_count": 44,
          "metadata": {},
          "output_type": "execute_result"
        }
      ],
      "source": [
        "# Menampilkan sampel acak dari data training\n",
        "random_id = randrange(len(dialect_detect['train']))\n",
        "dialect_detect['train'][random_id]"
      ]
    },
    {
      "cell_type": "markdown",
      "metadata": {
        "id": "BFMCwQ-LlWUm"
      },
      "source": [
        "Model yang digunakan dalam project ini yaitu NusaBert-base. model ini merupakan model yang dibuat oleh LazarusNLP, dimana model ini dilatih dengan menggunakan bahasa indonesia, bahasa inggris dan juga bahasa daerah yang ada di Indonesia seperti bahasa jawa, sunda, indonesia, dan minang. Oleh karena itu saya memilih menggunakan model ini untuk digunakan dalam pembuatan project deteksi dialect, hanya terdapat kekurangan dalam memilih model ini yaitu model ini belum mendukung bahasa minang."
      ]
    },
    {
      "cell_type": "code",
      "execution_count": 45,
      "metadata": {
        "colab": {
          "base_uri": "https://localhost:8080/"
        },
        "id": "4zU9mpLWcCxN",
        "outputId": "dcfc996e-6c47-4303-f8ad-ca7fe955687b"
      },
      "outputs": [],
      "source": [
        "# Menentukan model pre-trained yang akan digunakan\n",
        "# model_name = \"Sahabat-AI/Llama-Sahabat-AI-v2-70B-IT\"\n",
        "model_name = \"LazarusNLP/NusaBERT-base\"\n",
        "\n",
        "# Memuat tokenizer dari model pre-trained\n",
        "tokenizer = AutoTokenizer.from_pretrained(model_name)"
      ]
    },
    {
      "cell_type": "code",
      "execution_count": 46,
      "metadata": {
        "id": "J-6RugAurIYI"
      },
      "outputs": [],
      "source": [
        "# Fungsi untuk menghitung panjang token setiap teks\n",
        "def get_token_length(example):\n",
        "    return {\"token_length\": len(tokenizer.encode(example['text']))}"
      ]
    },
    {
      "cell_type": "code",
      "execution_count": 47,
      "metadata": {
        "colab": {
          "base_uri": "https://localhost:8080/",
          "height": 49,
          "referenced_widgets": [
            "ee4556e545214240962b933933af8a52",
            "f23c0e3bc85f4ef8b6c64ccb5e399522",
            "2547eb218b8b4137802d8ca2b6dd8116",
            "e43116754c33465ca6012f2b2a4e3afb",
            "fab388cbacfb4f0e91a17a1bf185e921",
            "32a62dcd50c049a5b6c1a7373ab47f5d",
            "051e05a013ce4ec7baced8c2ec8a27ba",
            "5a5c1f1709e34b6fa2d2a9343335d3fe",
            "66172a8cfe604fa585d743d82c99fa28",
            "288aa05a7dc8443f9bec4282686edc22",
            "29bcb852a11145869d183603dcf3192f"
          ]
        },
        "id": "fZIVlp-wrmIp",
        "outputId": "80514d7d-63b2-47fc-9bf9-e6d4f1278cec"
      },
      "outputs": [
        {
          "name": "stderr",
          "output_type": "stream",
          "text": [
            "Map: 100%|\u2588\u2588\u2588\u2588\u2588\u2588\u2588\u2588\u2588\u2588| 1500/1500 [00:01<00:00, 941.18 examples/s]\n"
          ]
        }
      ],
      "source": [
        "# Menerapkan fungsi get_token_length pada data training untuk mendapatkan panjang token semua kalimat\n",
        "dataset_with_lengths = dialect_detect['train'].map(get_token_length)"
      ]
    },
    {
      "cell_type": "code",
      "execution_count": 48,
      "metadata": {
        "colab": {
          "base_uri": "https://localhost:8080/"
        },
        "id": "61FrQ8MSruGh",
        "outputId": "5c2055bf-12a5-4502-ff2c-cf5daf170f6b"
      },
      "outputs": [
        {
          "name": "stdout",
          "output_type": "stream",
          "text": [
            "Panjang token Min: 100\n",
            "Panjang token Max: 1264\n",
            "Panjang token Rata-rata: 251.71\n",
            "------------------------------\n"
          ]
        }
      ],
      "source": [
        "# Analisis distribusi panjang token\n",
        "token_lengths = dataset_with_lengths['token_length']\n",
        "\n",
        "print(f\"Panjang token Min: {np.min(token_lengths)}\")\n",
        "print(f\"Panjang token Max: {np.max(token_lengths)}\")\n",
        "print(f\"Panjang token Rata-rata: {np.mean(token_lengths):.2f}\")\n",
        "print(\"-\" * 30)"
      ]
    },
    {
      "cell_type": "code",
      "execution_count": 49,
      "metadata": {
        "colab": {
          "base_uri": "https://localhost:8080/"
        },
        "id": "df8MSpEIsirl",
        "outputId": "1a8e7f32-9d07-4b5a-d21a-a18acd5ee261"
      },
      "outputs": [
        {
          "name": "stdout",
          "output_type": "stream",
          "text": [
            "Rekomendasi max_length (Persentil ke-95): 577\n",
            "Rekomendasi max_length (Persentil ke-98): 720\n",
            "Rekomendasi max_length (Persentil ke-99): 834\n"
          ]
        }
      ],
      "source": [
        "# Hitung persentil untuk mendapatkan rekomendasi nilai max_length\n",
        "p95 = np.percentile(token_lengths, 95)\n",
        "p98 = np.percentile(token_lengths, 98)\n",
        "p99 = np.percentile(token_lengths, 99)\n",
        "\n",
        "print(f\"Rekomendasi max_length (Persentil ke-95): {int(p95)}\")\n",
        "print(f\"Rekomendasi max_length (Persentil ke-98): {int(p98)}\")\n",
        "print(f\"Rekomendasi max_length (Persentil ke-99): {int(p99)}\")"
      ]
    },
    {
      "cell_type": "markdown",
      "metadata": {
        "id": "2OtT8JK4yNHf"
      },
      "source": [
        "**Noted:**\n",
        "\n",
        "Pada tahap ini sebelum masuk kedalam proses tokenizer, maka langkah yang dilakukan disini yaitu menentukan nilai max lenght yang optimal. Seperti yang terlihat bahwa persentil dibuadari 95-99, alasan memilih persentil tersebut agar dapat meminimalisir hilangnya informasi yang ada. Oleh karena itu dengan memilih persentil 95-99 artinya kita hanya memotong 2% hingga 5% data terpanjang, karena max length sendiri memiliki batas maksimal 512. Tetapi jika memilih persentil 100 maka memiliki kemungkinan bahwa ruang yang digunakan terlalu berlebihan.\n",
        "\n",
        "Kesimpulannya, berdasarkan dari hasil persentil yang didapatkan yaitu pada persentil 95 dengan total 783. maka dari hal tersebut kita dapat menarik kesimpulan bahwa nilai max lenght yang digunakan adalah 512."
      ]
    },
    {
      "cell_type": "code",
      "execution_count": 50,
      "metadata": {
        "id": "7zdI1hNZxIdB"
      },
      "outputs": [],
      "source": [
        "# Mengatur nilai max_length untuk tokenizer\n",
        "tokenizer.model_max_length = 512"
      ]
    },
    {
      "cell_type": "code",
      "execution_count": 51,
      "metadata": {
        "colab": {
          "base_uri": "https://localhost:8080/",
          "height": 113,
          "referenced_widgets": [
            "fd5bd454ef9e4650a9a76b86c75da6e6",
            "377eaafa9dfb4829b21e4133cd75fe54",
            "eae85a488ab64300bc1d1c3a95c76e77",
            "df086a5e2ad448d593e7c530e31ec71d",
            "4f587519895b4a6ab68c0f534fcffb51",
            "5eed4b008d5c4e31aa7dae70deb579da",
            "1c05b4ae020440cd84a890dd9913acec",
            "1bfedde3cfb3482e8c264236555ee00d",
            "ff909cedca0243b1acc3af6d5e0a2e92",
            "ec8ed18b10034bfd9990e9531c0c18b8",
            "e7326f715dca4616bdaec4146fdee39a",
            "bc1582042db64ba6a52f66ef55fd295e",
            "e3401e533e1248d1af61504a98471d03",
            "11aaba82adf74b869b135edf5d91ffdb",
            "c027c719bf4b4380903bab3db17c4824",
            "3a63b0ffb3d04d31976732ea101fb9e2",
            "f608f4dcca8d4d1999e36fee38d0b3e6",
            "fbcb61b281324c1eaa4648e1ad1c5678",
            "9fa0810c6aca47119dbc5c91623efa53",
            "d0cb87caa4cb4a648ed08ca467a65f5b",
            "54a81d54e5164ff39eaf844e9579526c",
            "cc835ed8f7744a2fb4bf9dd0b8da9b34",
            "da7af9f02b8d4137a09978be7e7bba75",
            "6650731a4dd6484fa5560ed87b5f5b32",
            "d1d722327d684bdb8595034ba36ff70c",
            "d5e0be5d330f4e63b694a21554b92af1",
            "c011d3cc639d41d6ac5000ddb9e1d912",
            "f646c80992c04662b854df247bbc5902",
            "e996570f4f794d2995732cc084c60fa4",
            "0aebd5f850364ba487cf0efcd4eda50d",
            "7ae60d7e26954ef68238276aa989c369",
            "3f15c46f37fd4966bcf6f98e04435d34",
            "981cddbc8af74667937e8704c289ba3a"
          ]
        },
        "id": "Kl4Xqy321GHD",
        "outputId": "0cd81cb1-ed1a-45e1-9251-cf269105146f"
      },
      "outputs": [
        {
          "name": "stderr",
          "output_type": "stream",
          "text": [
            "Map: 100%|\u2588\u2588\u2588\u2588\u2588\u2588\u2588\u2588\u2588\u2588| 1500/1500 [00:00<00:00, 2128.63 examples/s]\n",
            "Map: 100%|\u2588\u2588\u2588\u2588\u2588\u2588\u2588\u2588\u2588\u2588| 500/500 [00:00<00:00, 2062.69 examples/s]\n",
            "Map: 100%|\u2588\u2588\u2588\u2588\u2588\u2588\u2588\u2588\u2588\u2588| 500/500 [00:00<00:00, 2326.75 examples/s]\n"
          ]
        }
      ],
      "source": [
        "# Fungsi helper untuk tokenisasi batch data\n",
        "def tokenize(batch):\n",
        "    return tokenizer(batch['text'], padding='max_length', truncation=True, return_tensors=\"pt\")\n",
        "\n",
        "# Mengatur pad_token jika belum terdapat pad_token (menggunakan eos_token jika pad_token kosong)\n",
        "if tokenizer.pad_token is None:\n",
        "    tokenizer.pad_token = tokenizer.eos_token\n",
        "\n",
        "# Tokenisasi dataset\n",
        "# Mengubah nama kolom 'label' menjadi 'labels' agar sesuai dengan standar library transformers\n",
        "raw_dataset =  dialect_detect.rename_column(\"label\", \"labels\")\n",
        "tokenized_dataset = raw_dataset.map(tokenize, batched=True,remove_columns=[\"text\"])"
      ]
    },
    {
      "cell_type": "code",
      "execution_count": 52,
      "metadata": {
        "colab": {
          "base_uri": "https://localhost:8080/"
        },
        "id": "tE0_J9Y01Pid",
        "outputId": "9f35bcb5-b24a-4407-f38c-6e7e3d3a460f"
      },
      "outputs": [
        {
          "name": "stdout",
          "output_type": "stream",
          "text": [
            "dict_keys(['dialect', 'labels', 'input_ids', 'token_type_ids', 'attention_mask'])\n"
          ]
        }
      ],
      "source": [
        "# Menampilkan kunci fitur dari dataset training yang sudah ditokenisasi\n",
        "print(tokenized_dataset[\"train\"].features.keys())"
      ]
    },
    {
      "cell_type": "code",
      "execution_count": 53,
      "metadata": {
        "colab": {
          "base_uri": "https://localhost:8080/"
        },
        "id": "tkOjWRfW2w86",
        "outputId": "3823d6c3-d5b8-44e1-df87-db146fde6ca2"
      },
      "outputs": [
        {
          "data": {
            "text/plain": [
              "DatasetDict({\n",
              "    train: Dataset({\n",
              "        features: ['dialect', 'labels', 'input_ids', 'token_type_ids', 'attention_mask'],\n",
              "        num_rows: 1500\n",
              "    })\n",
              "    validation: Dataset({\n",
              "        features: ['dialect', 'labels', 'input_ids', 'token_type_ids', 'attention_mask'],\n",
              "        num_rows: 500\n",
              "    })\n",
              "    test: Dataset({\n",
              "        features: ['dialect', 'labels', 'input_ids', 'token_type_ids', 'attention_mask'],\n",
              "        num_rows: 500\n",
              "    })\n",
              "})"
            ]
          },
          "execution_count": 53,
          "metadata": {},
          "output_type": "execute_result"
        }
      ],
      "source": [
        "# Menampilkan struktur DatasetDict yang sudah ditokenisasi\n",
        "tokenized_dataset"
      ]
    },
    {
      "cell_type": "code",
      "execution_count": 54,
      "metadata": {
        "colab": {
          "base_uri": "https://localhost:8080/"
        },
        "id": "LwjTXmviZU_r",
        "outputId": "f2ecd917-3836-42b4-b59a-aa2471bec2b4"
      },
      "outputs": [
        {
          "name": "stdout",
          "output_type": "stream",
          "text": [
            "5 Sampel Acak dari Data Train\n",
            "  dialect  labels                                          input_ids  \\\n",
            "0     sun       2  [2, 11258, 19644, 30953, 14, 31577, 30468, 257...   \n",
            "1     min       3  [2, 1248, 25765, 31292, 282, 5713, 34, 25765, ...   \n",
            "2     ind       0  [2, 678, 30468, 18929, 30355, 300, 30469, 3046...   \n",
            "3     ind       0  [2, 678, 30468, 18929, 30355, 300, 30469, 3046...   \n",
            "4     jav       1  [2, 349, 28532, 7620, 280, 31260, 4739, 10510,...   \n",
            "\n",
            "                                      token_type_ids  \\\n",
            "0  [0, 0, 0, 0, 0, 0, 0, 0, 0, 0, 0, 0, 0, 0, 0, ...   \n",
            "1  [0, 0, 0, 0, 0, 0, 0, 0, 0, 0, 0, 0, 0, 0, 0, ...   \n",
            "2  [0, 0, 0, 0, 0, 0, 0, 0, 0, 0, 0, 0, 0, 0, 0, ...   \n",
            "3  [0, 0, 0, 0, 0, 0, 0, 0, 0, 0, 0, 0, 0, 0, 0, ...   \n",
            "4  [0, 0, 0, 0, 0, 0, 0, 0, 0, 0, 0, 0, 0, 0, 0, ...   \n",
            "\n",
            "                                      attention_mask  \n",
            "0  [1, 1, 1, 1, 1, 1, 1, 1, 1, 1, 1, 1, 1, 1, 1, ...  \n",
            "1  [1, 1, 1, 1, 1, 1, 1, 1, 1, 1, 1, 1, 1, 1, 1, ...  \n",
            "2  [1, 1, 1, 1, 1, 1, 1, 1, 1, 1, 1, 1, 1, 1, 1, ...  \n",
            "3  [1, 1, 1, 1, 1, 1, 1, 1, 1, 1, 1, 1, 1, 1, 1, ...  \n",
            "4  [1, 1, 1, 1, 1, 1, 1, 1, 1, 1, 1, 1, 1, 1, 1, ...  \n"
          ]
        }
      ],
      "source": [
        "# Menampilkan 5 sampel acak dari data train yang sudah ditokenisasi\n",
        "sampel_acak = tokenized_dataset['train'].shuffle(seed=42).select(range(5))\n",
        "\n",
        "# Mengubah ke dalam bentuk data frame untuk tampilan\n",
        "df_sampel = pd.DataFrame(sampel_acak)\n",
        "print(\"5 Sampel Acak dari Data Train\")\n",
        "print(df_sampel)"
      ]
    },
    {
      "cell_type": "markdown",
      "metadata": {
        "id": "wG-aUHGYbvDu"
      },
      "source": [
        "**Note:**\n",
        "\n",
        "Pada tahap ini melakukan proses tokenisasi dimana membuat format dataset yang dimiliki agar sepenuhnya siap dilatih oleh model LLM. Berikut penjelasan secara detail:\n",
        "\n",
        "\n",
        "- Tokenize: Merupakan langkah utama dalam tahap ini, berfungsi untuk mengubah setiap kalimat dalam kolom text menjadi token (angka). seperti yang terlihat hasilnya pada proses sebelumnya. padding dengan menggunakan \"max_length\" dan Truncation=True bertujuan untuk memastikan semua kalimat panjang agar menjadi seragam.\n",
        "- if tokenizer.pad_token is None: Dari referensi yang diambil code, atau tahap ini bertujuan untuk berjaga jaga alasannya yaitu beberapa model secara alami tidak memiliki token khusus padding. baris ini bertujuan jika hal tersebut tidak terdapat dalam model program tidak akan mengalami error.\n",
        "- raw_dataset =  dialect_detect.rename_column(\"label\", \"labels\"): memiliki fungsi yaitu mengubah nama kolom awalnya label menjadi labels, hal ini bertujuan untuk memenuhi syarat dari library transformer.\n",
        "- tokenized_dataset = raw_dataset.map(tokenize, batched=True,remove_columns=[\"text\"]): tahap akhir dari proses tokenisasi dimana menghapus kolom text asli, setelah mengubah semua kata yang ada pada dataset tersebut kedalam bentuk token. Alasan kolom dihapus adalah karena tidak diperlukan lagi oleh model nantinya"
      ]
    },
    {
      "cell_type": "markdown",
      "metadata": {
        "id": "ed16ef77"
      },
      "source": [
        "# Penentuan dan Eksplorasi Hyperparameter dengan Optuna"
      ]
    },
    {
      "cell_type": "code",
      "execution_count": 55,
      "metadata": {
        "colab": {
          "base_uri": "https://localhost:8080/"
        },
        "id": "vtc426TyagoR",
        "outputId": "a2f3b385-a61d-4320-81de-c33fb706abf8"
      },
      "outputs": [
        {
          "name": "stdout",
          "output_type": "stream",
          "text": [
            "label2id: {'ind': 0, 'jav': 1, 'sun': 2, 'min': 3}\n",
            "id2label: {0: 'ind', 1: 'jav', 2: 'sun', 3: 'min'}\n"
          ]
        }
      ],
      "source": [
        "# Menyiapkan label model - berguna untuk inferensi\n",
        "# Mengambil nama-nama label dari kunci dictionary label2id yang sudah ada\n",
        "labels = list(label2id.keys())\n",
        "num_labels = len(labels)\n",
        "\n",
        "# Membuat ulang di sini untuk memastikan konsistensi, tetapi bisa juga menggunakan yang sudah ada.\n",
        "label2id = {label: i for i, label in enumerate(labels)}\n",
        "id2label = {i: label for i, label in enumerate(labels)}\n",
        "\n",
        "\n",
        "print(\"label2id:\", label2id)\n",
        "print(\"id2label:\", id2label)"
      ]
    },
    {
      "cell_type": "code",
      "execution_count": 56,
      "metadata": {
        "id": "Frcl9vpGHJBo"
      },
      "outputs": [],
      "source": [
        "# # Mencari nilai hyperparameter optimal dengan optuna\n",
        "# def objective(trial):\n",
        "#     model = AutoModelForSequenceClassification.from_pretrained(model_name, num_labels=4, id2label=id2label, label2id=label2id)\n",
        "\n",
        "#     learning_rate = trial.suggest_loguniform('learning_rate', 1e-5, 5e-5)\n",
        "#     batch_size = trial.suggest_categorical('batch_size', [8, 16, 32])\n",
        "\n",
        "#     training_args = TrainingArguments(\n",
        "#         output_dir='./results',\n",
        "#         learning_rate=learning_rate,\n",
        "#         per_device_train_batch_size=batch_size,\n",
        "#         num_train_epochs=1,\n",
        "#         eval_strategy=\"epoch\",\n",
        "#         logging_steps=500,\n",
        "#     )\n",
        "\n",
        "#     trainer = Trainer(\n",
        "#         model=model,\n",
        "#         args=training_args,\n",
        "#         # Gunakan dataset yang sudah diperkecil\n",
        "#         train_dataset= tokenized_dataset[\"train\"],\n",
        "#         eval_dataset= tokenized_dataset[\"validation\"]\n",
        "#     )\n",
        "\n",
        "#     trainer.train()\n",
        "#     eval_result = trainer.evaluate()\n",
        "\n",
        "#     return eval_result['eval_loss']\n",
        "\n",
        "# # Pastikan arahnya 'minimize' karena kita mengoptimalkan loss\n",
        "# study = optuna.create_study(direction=\"minimize\")\n",
        "# study.optimize(objective, n_trials=5)\n",
        "\n",
        "# print(\"Best hyperparameters:\", study.best_params)"
      ]
    },
    {
      "cell_type": "markdown",
      "metadata": {
        "id": "svZwAznMzO1I"
      },
      "source": [
        "![image.png](data:image/png;base64,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)"
      ]
    },
    {
      "cell_type": "markdown",
      "metadata": {
        "id": "yA0lBe9Ga8cT"
      },
      "source": [
        "# Proses Fine Tuning"
      ]
    },
    {
      "cell_type": "code",
      "execution_count": 57,
      "metadata": {
        "colab": {
          "base_uri": "https://localhost:8080/"
        },
        "id": "693a01ad",
        "outputId": "2a66ea45-3c3d-4766-ca5e-c8741ca0f9f7"
      },
      "outputs": [
        {
          "name": "stdout",
          "output_type": "stream",
          "text": [
            "{'text': Value('string'), 'dialect': Value('string'), 'labels': Value('int64')}\n"
          ]
        }
      ],
      "source": [
        "# Menampilkan fitur dari raw_dataset training (sebelum tokenisasi)\n",
        "print(raw_dataset[\"train\"].features)"
      ]
    },
    {
      "cell_type": "code",
      "execution_count": 58,
      "metadata": {
        "colab": {
          "base_uri": "https://localhost:8080/"
        },
        "id": "1b5a9db5",
        "outputId": "4c33d8b3-210f-4d84-b7a5-dac7a1f6a7db"
      },
      "outputs": [
        {
          "name": "stderr",
          "output_type": "stream",
          "text": [
            "Some weights of BertForSequenceClassification were not initialized from the model checkpoint at LazarusNLP/NusaBERT-base and are newly initialized: ['bert.pooler.dense.bias', 'bert.pooler.dense.weight', 'classifier.bias', 'classifier.weight']\n",
            "You should probably TRAIN this model on a down-stream task to be able to use it for predictions and inference.\n"
          ]
        }
      ],
      "source": [
        "  # Memuat model pre-trained untuk klasifikasi sekuen\n",
        "  # Menggunakan identifier model yang sama dengan tokenizer\n",
        "\n",
        "  model = AutoModelForSequenceClassification.from_pretrained(\n",
        "      model_name, # Menggunakan variabel model_name\n",
        "      num_labels=num_labels,\n",
        "      id2label=id2label,\n",
        "      label2id=label2id\n",
        "  )"
      ]
    },
    {
      "cell_type": "markdown",
      "metadata": {
        "id": "f76640f2"
      },
      "source": [
        "## PEFT Lora"
      ]
    },
    {
      "cell_type": "code",
      "execution_count": 59,
      "metadata": {
        "id": "33250d7e"
      },
      "outputs": [],
      "source": [
        "# Konfigurasi LoRA\n",
        "lora_config = LoraConfig(\n",
        "    task_type = 'SEQ_CLS',\n",
        "    r = 4,\n",
        "    lora_alpha = 32,\n",
        "    lora_dropout = 0.01,\n",
        "    target_modules = ['query', 'key', 'value'] # Corrected target modules\n",
        ")\n",
        "\n",
        "# Menerapkan LoRA pada model\n",
        "peft_model = get_peft_model(model, lora_config)"
      ]
    },
    {
      "cell_type": "markdown",
      "metadata": {
        "id": "YXv7VH-JmawX"
      },
      "source": [
        "**Noted:**\n",
        "\n",
        "setelah melakukan proses tokenisasi maka langkah selanjutnya yang dilakukan adalah tahap fine tuning. pada tahap ini menggunakan PEFT alasannya karena lebih cepat dan lebih ringan, tentunya hasil yang didapatkan berkemungkinan tidak akan sebaik jika melakukan proses full fine-tuning. Pada PEFT terdapat parameter yang harus ditentukan dan ditetapkan, parameter yang digunakan tersebut tidak ditetapkan sendiri, akan tetapi diambil dari referensi yang menggunakan PEFT lora."
      ]
    },
    {
      "cell_type": "markdown",
      "metadata": {
        "id": "8-gfGs7Cnmr7"
      },
      "source": [
        "# Model dan Evaluasi"
      ]
    },
    {
      "cell_type": "code",
      "execution_count": 60,
      "metadata": {
        "id": "1fa8ba5d"
      },
      "outputs": [],
      "source": [
        "\n",
        "# Inisialisasi data collator\n",
        "data_collator = DataCollatorWithPadding(tokenizer=tokenizer)"
      ]
    },
    {
      "cell_type": "code",
      "execution_count": null,
      "metadata": {},
      "outputs": [],
      "source": [
        "\n",
        " \n",
        "# Metric helper method\n",
        "def compute_metrics(eval_pred):\n",
        "    predictions, labels = eval_pred\n",
        "    predictions = np.argmax(predictions, axis=1)\n",
        "    score = f1_score(\n",
        "            labels, predictions, labels=labels, pos_label=1, average=\"weighted\"\n",
        "        )\n",
        "    return {\"f1\": float(score) if score == 1 else score}"
      ]
    },
    {
      "cell_type": "code",
      "execution_count": 62,
      "metadata": {
        "colab": {
          "base_uri": "https://localhost:8080/",
          "height": 81,
          "referenced_widgets": [
            "08c9373977ca4aa191e272ce2d4a7c8e",
            "17aef37b01bf4f86a9d51a45565657a1",
            "a436a2de9ec74623b089413654b7fb49",
            "ab7de0e243684b2fa0ecbe5a90e18f8d",
            "7d219106f7684d7a9ed4b84f721c081a",
            "f0967171b3174c97bbe2a03767e014bf",
            "5473d2831bb4418e842abe8f789e17b7",
            "140e079c86004955a3e3d5d7ae3586fb",
            "8ba1e9f788f8413286ac32acc01aa2a8",
            "0d4c1853acb4452691859f9ab367fd75",
            "9580de87421b4739adbc6c7a471d1668",
            "84aa6763197b4d658afe56555c8b7ba0",
            "9b70e33095574e52aea4c3179fa6a4a6",
            "052e1778d8bf4c2da5df352d3ae78201",
            "8ebf5345234c4545abc516aac7ff29dc",
            "253011b044c24b50b89aa4ff4d5bad74",
            "f8b94b437db64df4a7bc67ec8d4ea582",
            "f396701a35ce4164b304adea676c89ba",
            "2d8872868a7d4eacae6772be01163040",
            "b2c3bcfdc5b6409fa1d346fcbb559c07",
            "87076089fe914c07906bf6ac966feb94",
            "00339b00486547ed9838dc64d379aeaa"
          ]
        },
        "id": "0ZYU6-EHuqtG",
        "outputId": "824ba03c-dbf1-4521-b069-e4019f003d3a"
      },
      "outputs": [],
      "source": [
        "# # Fungsi untuk menghitung metrik evaluasi (Accuracy dan ROC AUC)\n",
        "# accuracy = evaluate.load(\"accuracy\")\n",
        "# auc_score = evaluate.load(\"roc_auc\")\n",
        "\n",
        "# def compute_metrics(eval_pred):\n",
        "#     # get predictions\n",
        "#     predictions, labels = eval_pred\n",
        "\n",
        "#     # apply softmax to get probabilities\n",
        "#     probabilities = np.exp(predictions) / np.exp(predictions).sum(-1, keepdims=True)\n",
        "\n",
        "#     # compute auc for multi-class\n",
        "#     # Use 'ovr' strategy for multi-class ROC AUC\n",
        "#     auc = np.round(auc_score.compute(prediction_scores=probabilities,\n",
        "#                                      references=labels, multi_class='ovr')['roc_auc'],3)\n",
        "\n",
        "#     # predict most probable class\n",
        "#     predicted_classes = np.argmax(predictions, axis=1)\n",
        "#     # compute accuracy\n",
        "#     acc = np.round(accuracy.compute(predictions=predicted_classes,\n",
        "#                                      references=labels)['accuracy'],3)\n",
        "\n",
        "#     return {\"Accuracy\": acc, \"AUC\": auc}"
      ]
    },
    {
      "cell_type": "markdown",
      "metadata": {
        "id": "UeCEgkCWpWoL"
      },
      "source": [
        "dalam langkah berikut untuk penentuan hyperparameter saya melakukan beberapa langkah. berikut penjelasannya:\n",
        "- hyperparameter pertama saya menggunakan dari proses optuna yang telah dilakukan.\n",
        "  - lr = 3.969e-05\n",
        "  - batch_size = 8\n",
        "  - num_epochs = 1\n",
        "- untuk uji coba kedua saya menggunakan referensi project yang telah dilakukan link: https://medium.com/@dooterior/fine-tuning-an-llm-for-sentiment-analysis-08b951af289e\n",
        "  - lr = 1e-3\n",
        "  - batch_size = 4\n",
        "  - num_epochs = 5\n",
        "\n",
        "dari 3 jenis hyperparameter yang ada, nantinya akan dilihat mana yang dapat memberikan hasil yang baik, dan paling optimal."
      ]
    },
    {
      "cell_type": "markdown",
      "metadata": {
        "id": "1ivoKfNkvh_p"
      },
      "source": [
        "### Ujicoba 1"
      ]
    },
    {
      "cell_type": "code",
      "execution_count": 63,
      "metadata": {
        "id": "IeN94AoppVft"
      },
      "outputs": [],
      "source": [
        "# hyperparameters uji coba 1\n",
        "lr_1 = 1e-3\n",
        "batch_size_1 = 8\n",
        "num_epochs_1 = 1"
      ]
    },
    {
      "cell_type": "code",
      "execution_count": 64,
      "metadata": {
        "colab": {
          "base_uri": "https://localhost:8080/"
        },
        "id": "SGx3two1no0k",
        "outputId": "7da84acb-63f6-4a57-b05b-08ad36ada3c7"
      },
      "outputs": [],
      "source": [
        "# Menginisialisasi Trainer dan memulai pelatihan model - uji coba 1\n",
        "training_args_1 = TrainingArguments(\n",
        "    output_dir= model_name,\n",
        "    learning_rate=lr_1,\n",
        "    per_device_train_batch_size=batch_size_1,\n",
        "    per_device_eval_batch_size=batch_size_1,\n",
        "    num_train_epochs=num_epochs_1,\n",
        "    weight_decay=0.01,\n",
        "    eval_strategy=\"epoch\",\n",
        "    save_strategy=\"epoch\",\n",
        "    load_best_model_at_end=True,\n",
        ")"
      ]
    },
    {
      "cell_type": "code",
      "execution_count": 65,
      "metadata": {
        "colab": {
          "base_uri": "https://localhost:8080/",
          "height": 130
        },
        "id": "D809YZAur226",
        "outputId": "c63c508d-74bc-432b-80db-55f4ee0974a3"
      },
      "outputs": [
        {
          "name": "stderr",
          "output_type": "stream",
          "text": [
            "C:\\Users\\Acer-Nitro\\AppData\\Local\\Temp\\ipykernel_63560\\283430423.py:1: FutureWarning: `tokenizer` is deprecated and will be removed in version 5.0.0 for `Trainer.__init__`. Use `processing_class` instead.\n",
            "  trainer_1 = Trainer(\n",
            "c:\\Users\\Acer-Nitro\\AppData\\Local\\Programs\\Python\\Python311\\Lib\\site-packages\\torch\\utils\\data\\dataloader.py:665: UserWarning: 'pin_memory' argument is set as true but no accelerator is found, then device pinned memory won't be used.\n",
            "  warnings.warn(warn_msg)\n"
          ]
        },
        {
          "data": {
            "text/html": [
              "\n",
              "    <div>\n",
              "      \n",
              "      <progress value='188' max='188' style='width:300px; height:20px; vertical-align: middle;'></progress>\n",
              "      [188/188 58:30, Epoch 1/1]\n",
              "    </div>\n",
              "    <table border=\"1\" class=\"dataframe\">\n",
              "  <thead>\n",
              " <tr style=\"text-align: left;\">\n",
              "      <th>Epoch</th>\n",
              "      <th>Training Loss</th>\n",
              "      <th>Validation Loss</th>\n",
              "      <th>F1</th>\n",
              "    </tr>\n",
              "  </thead>\n",
              "  <tbody>\n",
              "    <tr>\n",
              "      <td>1</td>\n",
              "      <td>No log</td>\n",
              "      <td>0.000252</td>\n",
              "      <td>1.000000</td>\n",
              "    </tr>\n",
              "  </tbody>\n",
              "</table><p>"
            ],
            "text/plain": [
              "<IPython.core.display.HTML object>"
            ]
          },
          "metadata": {},
          "output_type": "display_data"
        },
        {
          "data": {
            "text/plain": [
              "TrainOutput(global_step=188, training_loss=0.054008950578405504, metrics={'train_runtime': 3528.5717, 'train_samples_per_second': 0.425, 'train_steps_per_second': 0.053, 'total_flos': 395707060224000.0, 'train_loss': 0.054008950578405504, 'epoch': 1.0})"
            ]
          },
          "execution_count": 65,
          "metadata": {},
          "output_type": "execute_result"
        }
      ],
      "source": [
        "trainer_1 = Trainer(\n",
        "    model=model,\n",
        "    args=training_args_1,\n",
        "    train_dataset=tokenized_dataset[\"train\"],\n",
        "    eval_dataset=tokenized_dataset[\"test\"],\n",
        "    tokenizer=tokenizer,\n",
        "    data_collator=data_collator,\n",
        "    compute_metrics=compute_metrics,\n",
        ")\n",
        "\n",
        "trainer_1.train()"
      ]
    },
    {
      "cell_type": "code",
      "execution_count": 66,
      "metadata": {},
      "outputs": [
        {
          "name": "stderr",
          "output_type": "stream",
          "text": [
            "c:\\Users\\Acer-Nitro\\AppData\\Local\\Programs\\Python\\Python311\\Lib\\site-packages\\torch\\utils\\data\\dataloader.py:665: UserWarning: 'pin_memory' argument is set as true but no accelerator is found, then device pinned memory won't be used.\n",
            "  warnings.warn(warn_msg)\n"
          ]
        },
        {
          "data": {
            "text/html": [],
            "text/plain": [
              "<IPython.core.display.HTML object>"
            ]
          },
          "metadata": {},
          "output_type": "display_data"
        },
        {
          "data": {
            "image/png": "[encoded data removed]",
            "text/plain": [
              "<Figure size 1000x800 with 1 Axes>"
            ]
          },
          "metadata": {},
          "output_type": "display_data"
        }
      ],
      "source": [
        "# Menghitung prediksi pada data validasi\n",
        "predictions = trainer_1.predict(tokenized_dataset[\"validation\"])\n",
        "# Menghitung confusion matrix\n",
        "cm = confusion_matrix(predictions.label_ids, np.argmax(predictions.predictions, axis=1))\n",
        "# Membuat DataFrame untuk confusion matrix\n",
        "cm_df = pd.DataFrame(cm, index=labels, columns=labels)\n",
        "# Visualisasi confusion matrix\n",
        "plt.figure(figsize=(10, 8))\n",
        "sns.heatmap(cm_df, annot=True, fmt='d', cmap='Blues', cbar=False, square=True)\n",
        "plt.title('Confusion Matrix')\n",
        "plt.xlabel('Predicted Label')\n",
        "plt.ylabel('True Label')\n",
        "plt.xticks(rotation=45)\n",
        "plt.yticks(rotation=0)\n",
        "plt.show()\n"
      ]
    }
  ],
  "metadata": {
    "colab": {
      "collapsed_sections": [
        "jlWMyquBIVAs"
      ],
      "provenance": [],
      "toc_visible": true
    },
    "kernelspec": {
      "display_name": "Python 3",
      "name": "python3"
    },
    "language_info": {
      "codemirror_mode": {
        "name": "ipython",
        "version": 3
      },
      "file_extension": ".py",
      "mimetype": "text/x-python",
      "name": "python",
      "nbconvert_exporter": "python",
      "pygments_lexer": "ipython3",
      "version": "3.11.9"
    }
  },
  "nbformat": 4,
  "nbformat_minor": 0
}